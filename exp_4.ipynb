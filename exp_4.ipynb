{
  "nbformat": 4,
  "nbformat_minor": 0,
  "metadata": {
    "colab": {
      "provenance": [],
      "authorship_tag": "ABX9TyPMceGmcEX7/BacG5awrwxH",
      "include_colab_link": true
    },
    "kernelspec": {
      "name": "python3",
      "display_name": "Python 3"
    },
    "language_info": {
      "name": "python"
    }
  },
  "cells": [
    {
      "cell_type": "markdown",
      "metadata": {
        "id": "view-in-github",
        "colab_type": "text"
      },
      "source": [
        "<a href=\"https://colab.research.google.com/github/Ramesh134M/Data-Science-Lab/blob/main/exp_4.ipynb\" target=\"_parent\"><img src=\"https://colab.research.google.com/assets/colab-badge.svg\" alt=\"Open In Colab\"/></a>"
      ]
    },
    {
      "cell_type": "code",
      "execution_count": 5,
      "metadata": {
        "colab": {
          "base_uri": "https://localhost:8080/"
        },
        "id": "bwgQ2uhL10wF",
        "outputId": "1535c787-41d4-46de-9550-2e59d652acee"
      },
      "outputs": [
        {
          "output_type": "stream",
          "name": "stderr",
          "text": [
            "[nltk_data] Downloading package stopwords to /root/nltk_data...\n",
            "[nltk_data]   Package stopwords is already up-to-date!\n",
            "[nltk_data] Downloading package punkt to /root/nltk_data...\n",
            "[nltk_data]   Package punkt is already up-to-date!\n"
          ]
        }
      ],
      "source": [
        "import pandas as pd\n",
        "import numpy as np\n",
        "import string\n",
        "import nltk\n",
        "from nltk.corpus import stopwords\n",
        "from sklearn.feature_extraction.text import TfidfVectorizer\n",
        "from sklearn.metrics.pairwise import cosine_similarity\n",
        "\n",
        "# Download necessary NLTK data\n",
        "nltk.download('stopwords')\n",
        "nltk.download('punkt')\n",
        "\n",
        "df = pd.read_csv('/content/Reviews.csv')\n",
        "df = df[['Text']]\n",
        "df.dropna(inplace=True)\n",
        "df = df.head(10000)\n",
        "stop_words = set(stopwords.words('english'))"
      ]
    },
    {
      "cell_type": "code",
      "source": [
        "def preprocess(text):\n",
        "    text = text.lower()\n",
        "    text = ''.join([c for c in text if c not in string.punctuation])\n",
        "    tokens = nltk.word_tokenize(text)\n",
        "    tokens = [word for word in tokens if word not in stop_words]\n",
        "    return ' '.join(tokens)\n",
        "df['Cleaned'] = df['Text'].apply(preprocess)\n",
        "\n",
        "vectorizer = TfidfVectorizer()\n",
        "tfidf_matrix = vectorizer.fit_transform(df['Cleaned'])"
      ],
      "metadata": {
        "id": "UCXTBatL3TE6"
      },
      "execution_count": 6,
      "outputs": []
    },
    {
      "cell_type": "code",
      "source": [
        "\n",
        "def retrieve_reviews(query, top_k=5):\n",
        "    query_cleaned = preprocess(query)\n",
        "    query_vec = vectorizer.transform([query_cleaned])\n",
        "    similarities = cosine_similarity(query_vec, tfidf_matrix).flatten()\n",
        "    top_indices = similarities.argsort()[-top_k:][::-1]\n",
        "\n",
        "    results = df.iloc[top_indices][['Text', 'Cleaned']]\n",
        "    return results\n",
        "print(\"\\n🔍 Query 1: Great product with fast shipping\\n\")\n",
        "print(retrieve_reviews(\"great product with fast shipping\"))\n",
        "\n",
        "print(\"\\n🔍 Query 2: Disappointed\\n\")\n",
        "print(retrieve_reviews(\"disappointed\"))"
      ],
      "metadata": {
        "colab": {
          "base_uri": "https://localhost:8080/"
        },
        "id": "y61rNJg43Zah",
        "outputId": "346d74d1-4bae-4d56-f1d4-27f230e141e2"
      },
      "execution_count": 7,
      "outputs": [
        {
          "output_type": "stream",
          "name": "stdout",
          "text": [
            "\n",
            "🔍 Query 1: Great product with fast shipping\n",
            "\n",
            "                                                   Text  \\\n",
            "5226  Enjoyed the product and they also provided ver...   \n",
            "8021  The tea is good and fresh. We enjoy it. The sh...   \n",
            "7073  My daughter lives in Hawaii and sent me some g...   \n",
            "6034  The energy drink is a great product. The shipp...   \n",
            "9878  Fast shipping, items were packaged nicely and ...   \n",
            "\n",
            "                                                Cleaned  \n",
            "5226  enjoyed product also provided fast shipping im...  \n",
            "8021  tea good fresh enjoy shipping fast cost reason...  \n",
            "7073  daughter lives hawaii sent great coffee keurig...  \n",
            "6034  energy drink great product shipping price craz...  \n",
            "9878  fast shipping items packaged nicely described ...  \n",
            "\n",
            "🔍 Query 2: Disappointed\n",
            "\n",
            "                                                   Text  \\\n",
            "3151  I am a bit disappointed.  The flavor was not w...   \n",
            "6548  Disappointed.  The big boxes had a very differ...   \n",
            "3333  Just plain nasty!!! This item tasted like card...   \n",
            "4378  The product is very good. Way too expensive an...   \n",
            "8004  this stuff really works, i love it and cant ge...   \n",
            "\n",
            "                                                Cleaned  \n",
            "3151            bit disappointed flavor wanted expected  \n",
            "6548  disappointed big boxes different flavor smalle...  \n",
            "3333  plain nasty item tasted like cardboard watered...  \n",
            "4378  product good way expensive almost 500 box get ...  \n",
            "8004  stuff really works love cant get enough tastes...  \n"
          ]
        }
      ]
    },
    {
      "cell_type": "code",
      "metadata": {
        "colab": {
          "base_uri": "https://localhost:8080/"
        },
        "id": "ca02b4d2",
        "outputId": "db64ef43-f3bf-4e06-92dc-54dac3a442b7"
      },
      "source": [
        "import nltk\n",
        "nltk.download('punkt_tab')"
      ],
      "execution_count": 4,
      "outputs": [
        {
          "output_type": "stream",
          "name": "stderr",
          "text": [
            "[nltk_data] Downloading package punkt_tab to /root/nltk_data...\n",
            "[nltk_data]   Package punkt_tab is already up-to-date!\n"
          ]
        },
        {
          "output_type": "execute_result",
          "data": {
            "text/plain": [
              "True"
            ]
          },
          "metadata": {},
          "execution_count": 4
        }
      ]
    },
    {
      "cell_type": "code",
      "source": [],
      "metadata": {
        "id": "SUnx_uwO3y4R"
      },
      "execution_count": null,
      "outputs": []
    }
  ]
}